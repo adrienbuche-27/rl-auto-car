{
 "cells": [
  {
   "cell_type": "code",
   "execution_count": 1,
   "metadata": {
    "ExecuteTime": {
     "end_time": "2020-03-10T21:17:01.876354Z",
     "start_time": "2020-03-10T21:16:59.454985Z"
    }
   },
   "outputs": [],
   "source": [
    "import pandas as pd\n",
    "import numpy as np\n",
    "from PIL import Image,ImageOps\n",
    "import matplotlib.pyplot as plt\n",
    "import cv2"
   ]
  },
  {
   "cell_type": "code",
   "execution_count": 2,
   "metadata": {
    "ExecuteTime": {
     "end_time": "2020-03-10T21:17:01.930238Z",
     "start_time": "2020-03-10T21:17:01.901516Z"
    }
   },
   "outputs": [],
   "source": [
    "def load_image( infilename ) :\n",
    "    img = Image.open( infilename ).convert('RGB')\n",
    "    plt.imshow(img)\n",
    "    return img"
   ]
  },
  {
   "cell_type": "code",
   "execution_count": 19,
   "metadata": {
    "ExecuteTime": {
     "end_time": "2020-03-10T21:17:37.066600Z",
     "start_time": "2020-03-10T21:17:36.545733Z"
    }
   },
   "outputs": [
    {
     "name": "stdout",
     "output_type": "stream",
     "text": [
      "(1024, 768)\n"
     ]
    },
    {
     "data": {
      "image/png": "[encoded data removed]",
      "text/plain": [
       "<Figure size 432x288 with 1 Axes>"
      ]
     },
     "metadata": {
      "needs_background": "light"
     },
     "output_type": "display_data"
    }
   ],
   "source": [
    "img = load_image('circuits/first_try03.png')\n",
    "print(img.size)"
   ]
  },
  {
   "cell_type": "code",
   "execution_count": 4,
   "metadata": {
    "ExecuteTime": {
     "end_time": "2020-03-10T21:17:02.525574Z",
     "start_time": "2020-03-10T21:17:02.512959Z"
    }
   },
   "outputs": [],
   "source": [
    "def invert_img(img):\n",
    "    img = ImageOps.invert(img)\n",
    "    plt.imshow(img)\n",
    "    return img"
   ]
  },
  {
   "cell_type": "code",
   "execution_count": 5,
   "metadata": {
    "ExecuteTime": {
     "end_time": "2020-03-10T21:17:02.668248Z",
     "start_time": "2020-03-10T21:17:02.641191Z"
    }
   },
   "outputs": [],
   "source": [
    "# img_invert = invert_img(img)"
   ]
  },
  {
   "cell_type": "code",
   "execution_count": 6,
   "metadata": {
    "ExecuteTime": {
     "end_time": "2020-03-10T21:17:02.720916Z",
     "start_time": "2020-03-10T21:17:02.710490Z"
    }
   },
   "outputs": [],
   "source": [
    "def rotate_img(img, angle):\n",
    "    # Anti-clockwise rotation\n",
    "    img_rot = img.rotate(angle, expand=True)\n",
    "    plt.imshow(img_rot)\n",
    "    return img_rot"
   ]
  },
  {
   "cell_type": "code",
   "execution_count": 7,
   "metadata": {
    "ExecuteTime": {
     "end_time": "2020-03-10T21:17:02.737008Z",
     "start_time": "2020-03-10T21:17:02.727619Z"
    }
   },
   "outputs": [],
   "source": [
    "# img_rot = rotate_img(img, 90)"
   ]
  },
  {
   "cell_type": "code",
   "execution_count": 8,
   "metadata": {
    "ExecuteTime": {
     "end_time": "2020-03-10T21:17:02.798990Z",
     "start_time": "2020-03-10T21:17:02.760922Z"
    }
   },
   "outputs": [],
   "source": [
    "def mirror_img(img, horizontal=False):\n",
    "    if not horizontal:\n",
    "        # if not horizontal : mirror from left to right\n",
    "        img_mir = ImageOps.mirror(img)\n",
    "    else:\n",
    "        # if horizontal : mirror from top to bottom\n",
    "        img = img.rotate(90, expand=True)\n",
    "        img_mir = ImageOps.mirror(img)\n",
    "        img_mir = img_mir.rotate(-90, expand=True)\n",
    "        \n",
    "    plt.imshow(img_mir)\n",
    "    return img_mir"
   ]
  },
  {
   "cell_type": "code",
   "execution_count": 9,
   "metadata": {
    "ExecuteTime": {
     "end_time": "2020-03-10T21:17:02.826133Z",
     "start_time": "2020-03-10T21:17:02.814059Z"
    }
   },
   "outputs": [],
   "source": [
    "# img_mir = mirror_img(img_invert, True)"
   ]
  },
  {
   "cell_type": "code",
   "execution_count": 21,
   "metadata": {
    "ExecuteTime": {
     "end_time": "2020-03-10T21:18:00.725918Z",
     "start_time": "2020-03-10T21:18:00.719118Z"
    }
   },
   "outputs": [],
   "source": [
    "color_img = np.asarray(img)"
   ]
  },
  {
   "cell_type": "code",
   "execution_count": 11,
   "metadata": {
    "ExecuteTime": {
     "end_time": "2020-03-10T21:17:02.885926Z",
     "start_time": "2020-03-10T21:17:02.854477Z"
    }
   },
   "outputs": [],
   "source": [
    "def search_start(array):\n",
    "    array = np.mean(array, axis=2)\n",
    "    new_array = np.where(array < 125, array, 0)\n",
    "    plt.imshow(new_array, cmap='gray')\n",
    "    rows, cols = new_array.shape\n",
    "    ind_r, ind_c = [], []\n",
    "    \n",
    "    for i in range(0,rows, 50):\n",
    "        for j in range(0,cols,50):\n",
    "            avg = np.mean(new_array[i:i+25,j:j+25])\n",
    "            if avg <= 200 and avg >= 55:\n",
    "                ind_r.append(i)\n",
    "                ind_c.append(j)\n",
    "#     print(ind_r, ind_c)\n",
    "    \n",
    "    tmp = new_array[ind_r[0]-45:ind_r[0]+45,ind_c[0]-45:ind_c[0]+45]\n",
    "    \n",
    "    return find_center(tmp)"
   ]
  },
  {
   "cell_type": "code",
   "execution_count": 12,
   "metadata": {
    "ExecuteTime": {
     "end_time": "2020-03-10T21:17:02.925109Z",
     "start_time": "2020-03-10T21:17:02.892143Z"
    }
   },
   "outputs": [],
   "source": [
    "def find_center(array):\n",
    "    array = np.where(array < 125, array, 0)\n",
    "    testr, testc = np.nonzero(array)\n",
    "    square = []\n",
    "    for k, l in zip(testr, testc):\n",
    "        if array[k,l] == 105.0:\n",
    "            square.append((k,l))\n",
    "            \n",
    "    dims = np.array(square[-1]) - np.array(square[0])\n",
    "    center = np.array(square[0]) + dims/2\n",
    "    return center"
   ]
  },
  {
   "cell_type": "code",
   "execution_count": 13,
   "metadata": {
    "ExecuteTime": {
     "end_time": "2020-03-10T21:17:03.673915Z",
     "start_time": "2020-03-10T21:17:02.943901Z"
    }
   },
   "outputs": [
    {
     "data": {
      "text/plain": [
       "array([53., 34.])"
      ]
     },
     "execution_count": 13,
     "metadata": {},
     "output_type": "execute_result"
    },
    {
     "data": {
      "image/png": "[encoded data removed]",
      "text/plain": [
       "<Figure size 432x288 with 1 Axes>"
      ]
     },
     "metadata": {
      "needs_background": "light"
     },
     "output_type": "display_data"
    }
   ],
   "source": [
    "search_start(color_img)"
   ]
  },
  {
   "cell_type": "code",
   "execution_count": 14,
   "metadata": {
    "ExecuteTime": {
     "end_time": "2020-03-10T21:17:04.220102Z",
     "start_time": "2020-03-10T21:17:03.685641Z"
    }
   },
   "outputs": [
    {
     "data": {
      "text/plain": [
       "<matplotlib.image.AxesImage at 0x11221c2b0>"
      ]
     },
     "execution_count": 14,
     "metadata": {},
     "output_type": "execute_result"
    },
    {
     "data": {
      "image/png": "[encoded data removed]",
      "text/plain": [
       "<Figure size 432x288 with 1 Axes>"
      ]
     },
     "metadata": {
      "needs_background": "light"
     },
     "output_type": "display_data"
    }
   ],
   "source": [
    "plt.imshow(color_img[265:355,643:735,0])\n",
    "# plt.imshow(np.mean(color_img[265:355,643:735,:], axis=2), cmap='gray')"
   ]
  },
  {
   "cell_type": "code",
   "execution_count": 15,
   "metadata": {
    "ExecuteTime": {
     "end_time": "2020-03-10T21:17:04.758001Z",
     "start_time": "2020-03-10T21:17:04.226874Z"
    }
   },
   "outputs": [
    {
     "data": {
      "text/plain": [
       "<matplotlib.image.AxesImage at 0x120683908>"
      ]
     },
     "execution_count": 15,
     "metadata": {},
     "output_type": "execute_result"
    },
    {
     "data": {
      "image/png": "[encoded data removed]",
      "text/plain": [
       "<Figure size 432x288 with 1 Axes>"
      ]
     },
     "metadata": {
      "needs_background": "light"
     },
     "output_type": "display_data"
    }
   ],
   "source": [
    "plt.imshow(color_img[280:335,663:717,:])"
   ]
  },
  {
   "cell_type": "code",
   "execution_count": 16,
   "metadata": {
    "ExecuteTime": {
     "end_time": "2020-03-10T21:17:04.778882Z",
     "start_time": "2020-03-10T21:17:04.761708Z"
    },
    "scrolled": true
   },
   "outputs": [
    {
     "data": {
      "text/plain": [
       "array([[255, 255, 255, ..., 255, 255, 255],\n",
       "       [255, 228, 225, ..., 248, 255, 255],\n",
       "       [255, 221, 218, ..., 246, 255, 255],\n",
       "       ...,\n",
       "       [255, 221, 218, ..., 246, 255, 255],\n",
       "       [255, 242, 241, ..., 251, 255, 255],\n",
       "       [255, 255, 255, ..., 255, 255, 255]], dtype=uint8)"
      ]
     },
     "execution_count": 16,
     "metadata": {},
     "output_type": "execute_result"
    }
   ],
   "source": [
    "color_img[282:335,663:717,0]"
   ]
  },
  {
   "cell_type": "code",
   "execution_count": 17,
   "metadata": {
    "ExecuteTime": {
     "end_time": "2020-03-10T21:17:04.906047Z",
     "start_time": "2020-03-10T21:17:04.818913Z"
    }
   },
   "outputs": [
    {
     "data": {
      "text/plain": [
       "93.50502958579882"
      ]
     },
     "execution_count": 17,
     "metadata": {},
     "output_type": "execute_result"
    }
   ],
   "source": [
    "np.mean(color_img[275:340,663:715,2])"
   ]
  },
  {
   "cell_type": "code",
   "execution_count": 23,
   "metadata": {
    "ExecuteTime": {
     "end_time": "2020-03-10T21:18:20.307814Z",
     "start_time": "2020-03-10T21:18:20.288952Z"
    }
   },
   "outputs": [],
   "source": [
    "image = cv2.cvtColor(color_img, cv2.COLOR_BGR2HSV)\n",
    "lower = np.array([155,25,0])\n",
    "upper = np.array([179,255,255])\n",
    "mask = cv2.inRange(image, lower, upper)\n",
    "result = cv2.bitwise_and(result, result, mask=mask)"
   ]
  },
  {
   "cell_type": "code",
   "execution_count": 25,
   "metadata": {
    "ExecuteTime": {
     "end_time": "2020-03-10T21:18:41.678451Z",
     "start_time": "2020-03-10T21:18:41.257610Z"
    }
   },
   "outputs": [
    {
     "data": {
      "text/plain": [
       "<matplotlib.image.AxesImage at 0x120ced2b0>"
      ]
     },
     "execution_count": 25,
     "metadata": {},
     "output_type": "execute_result"
    },
    {
     "data": {
      "image/png": "[encoded data removed]",
      "text/plain": [
       "<Figure size 432x288 with 1 Axes>"
      ]
     },
     "metadata": {
      "needs_background": "light"
     },
     "output_type": "display_data"
    }
   ],
   "source": [
    "plt.imshow(result)"
   ]
  },
  {
   "cell_type": "code",
   "execution_count": 26,
   "metadata": {
    "ExecuteTime": {
     "end_time": "2020-03-10T21:19:18.776136Z",
     "start_time": "2020-03-10T21:19:08.419068Z"
    }
   },
   "outputs": [
    {
     "ename": "KeyboardInterrupt",
     "evalue": "",
     "output_type": "error",
     "traceback": [
      "\u001b[0;31m---------------------------------------------------------------------------\u001b[0m",
      "\u001b[0;31mKeyboardInterrupt\u001b[0m                         Traceback (most recent call last)",
      "\u001b[0;32m<ipython-input-26-f26f15d17ee6>\u001b[0m in \u001b[0;36m<module>\u001b[0;34m()\u001b[0m\n\u001b[1;32m     14\u001b[0m \u001b[0mcv2\u001b[0m\u001b[0;34m.\u001b[0m\u001b[0mimshow\u001b[0m\u001b[0;34m(\u001b[0m\u001b[0;34m'mask'\u001b[0m\u001b[0;34m,\u001b[0m \u001b[0mmask\u001b[0m\u001b[0;34m)\u001b[0m\u001b[0;34m\u001b[0m\u001b[0m\n\u001b[1;32m     15\u001b[0m \u001b[0mcv2\u001b[0m\u001b[0;34m.\u001b[0m\u001b[0mimshow\u001b[0m\u001b[0;34m(\u001b[0m\u001b[0;34m'result'\u001b[0m\u001b[0;34m,\u001b[0m \u001b[0mresult\u001b[0m\u001b[0;34m)\u001b[0m\u001b[0;34m\u001b[0m\u001b[0m\n\u001b[0;32m---> 16\u001b[0;31m \u001b[0mcv2\u001b[0m\u001b[0;34m.\u001b[0m\u001b[0mwaitKey\u001b[0m\u001b[0;34m(\u001b[0m\u001b[0;34m)\u001b[0m\u001b[0;34m\u001b[0m\u001b[0m\n\u001b[0m",
      "\u001b[0;31mKeyboardInterrupt\u001b[0m: "
     ]
    }
   ],
   "source": [
    "import numpy as np\n",
    "import cv2\n",
    "\n",
    "image = cv2.imread('circuits/first_try03.png')\n",
    "result = image.copy()\n",
    "image = cv2.cvtColor(image, cv2.COLOR_BGR2HSV)\n",
    "# lower = np.array([155,25,0])\n",
    "# upper = np.array([179,255,255])\n",
    "lower = np.array([0,50,50]) #example value\n",
    "upper = np.array([10,255,255]) #example value\n",
    "mask = cv2.inRange(image, lower, upper)\n",
    "result = cv2.bitwise_and(result, result, mask=mask)\n",
    "\n",
    "cv2.imshow('mask', mask)\n",
    "cv2.imshow('result', result)\n",
    "cv2.waitKey()"
   ]
  },
  {
   "cell_type": "code",
   "execution_count": null,
   "metadata": {},
   "outputs": [],
   "source": []
  }
 ],
 "metadata": {
  "kernelspec": {
   "display_name": "Python 3",
   "language": "python",
   "name": "python3"
  },
  "language_info": {
   "codemirror_mode": {
    "name": "ipython",
    "version": 3
   },
   "file_extension": ".py",
   "mimetype": "text/x-python",
   "name": "python",
   "nbconvert_exporter": "python",
   "pygments_lexer": "ipython3",
   "version": "3.5.6"
  },
  "toc": {
   "base_numbering": 1,
   "nav_menu": {},
   "number_sections": true,
   "sideBar": true,
   "skip_h1_title": false,
   "title_cell": "Table of Contents",
   "title_sidebar": "Contents",
   "toc_cell": false,
   "toc_position": {},
   "toc_section_display": true,
   "toc_window_display": false
  }
 },
 "nbformat": 4,
 "nbformat_minor": 4
}
