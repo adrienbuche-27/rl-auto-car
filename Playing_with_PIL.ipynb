{
 "cells": [
  {
   "cell_type": "code",
   "execution_count": 1,
   "metadata": {
    "ExecuteTime": {
     "end_time": "2020-03-11T08:27:22.601443Z",
     "start_time": "2020-03-11T08:27:21.522311Z"
    }
   },
   "outputs": [],
   "source": [
    "import pandas as pd\n",
    "import numpy as np\n",
    "from PIL import Image,ImageOps\n",
    "import matplotlib.pyplot as plt\n",
    "import cv2"
   ]
  },
  {
   "cell_type": "code",
   "execution_count": 2,
   "metadata": {
    "ExecuteTime": {
     "end_time": "2020-03-11T08:27:22.614392Z",
     "start_time": "2020-03-11T08:27:22.604612Z"
    }
   },
   "outputs": [],
   "source": [
    "def load_image( infilename ) :\n",
    "    img = Image.open( infilename ).convert('RGB')\n",
    "    plt.imshow(img)\n",
    "    return img"
   ]
  },
  {
   "cell_type": "code",
   "execution_count": 3,
   "metadata": {
    "ExecuteTime": {
     "end_time": "2020-03-11T08:27:22.940722Z",
     "start_time": "2020-03-11T08:27:22.622434Z"
    }
   },
   "outputs": [
    {
     "name": "stdout",
     "output_type": "stream",
     "text": [
      "(1024, 768)\n"
     ]
    },
    {
     "data": {
      "image/png": "[encoded data removed]",
      "text/plain": [
       "<Figure size 432x288 with 1 Axes>"
      ]
     },
     "metadata": {
      "needs_background": "light"
     },
     "output_type": "display_data"
    }
   ],
   "source": [
    "img = load_image('circuits/first_try03.png')\n",
    "print(img.size)"
   ]
  },
  {
   "cell_type": "code",
   "execution_count": 4,
   "metadata": {
    "ExecuteTime": {
     "end_time": "2020-03-11T08:27:22.965096Z",
     "start_time": "2020-03-11T08:27:22.951764Z"
    }
   },
   "outputs": [],
   "source": [
    "def invert_img(img):\n",
    "    img = ImageOps.invert(img)\n",
    "    plt.imshow(img)\n",
    "    return img"
   ]
  },
  {
   "cell_type": "code",
   "execution_count": 5,
   "metadata": {
    "ExecuteTime": {
     "end_time": "2020-03-11T08:27:22.992281Z",
     "start_time": "2020-03-11T08:27:22.970208Z"
    }
   },
   "outputs": [],
   "source": [
    "# img_invert = invert_img(img)"
   ]
  },
  {
   "cell_type": "code",
   "execution_count": 6,
   "metadata": {
    "ExecuteTime": {
     "end_time": "2020-03-11T08:27:23.007322Z",
     "start_time": "2020-03-11T08:27:22.999918Z"
    }
   },
   "outputs": [],
   "source": [
    "def rotate_img(img, angle):\n",
    "    # Anti-clockwise rotation\n",
    "    img_rot = img.rotate(angle, expand=True)\n",
    "    plt.imshow(img_rot)\n",
    "    return img_rot"
   ]
  },
  {
   "cell_type": "code",
   "execution_count": 7,
   "metadata": {
    "ExecuteTime": {
     "end_time": "2020-03-11T08:27:23.020275Z",
     "start_time": "2020-03-11T08:27:23.014291Z"
    }
   },
   "outputs": [],
   "source": [
    "# img_rot = rotate_img(img, 90)"
   ]
  },
  {
   "cell_type": "code",
   "execution_count": 8,
   "metadata": {
    "ExecuteTime": {
     "end_time": "2020-03-11T08:27:23.044258Z",
     "start_time": "2020-03-11T08:27:23.026552Z"
    }
   },
   "outputs": [],
   "source": [
    "def mirror_img(img, horizontal=False):\n",
    "    if not horizontal:\n",
    "        # if not horizontal : mirror from left to right\n",
    "        img_mir = ImageOps.mirror(img)\n",
    "    else:\n",
    "        # if horizontal : mirror from top to bottom\n",
    "        img = img.rotate(90, expand=True)\n",
    "        img_mir = ImageOps.mirror(img)\n",
    "        img_mir = img_mir.rotate(-90, expand=True)\n",
    "        \n",
    "    plt.imshow(img_mir)\n",
    "    return img_mir"
   ]
  },
  {
   "cell_type": "code",
   "execution_count": 9,
   "metadata": {
    "ExecuteTime": {
     "end_time": "2020-03-11T08:27:23.232813Z",
     "start_time": "2020-03-11T08:27:23.224606Z"
    }
   },
   "outputs": [],
   "source": [
    "# img_mir = mirror_img(img_invert, True)"
   ]
  },
  {
   "cell_type": "code",
   "execution_count": 10,
   "metadata": {
    "ExecuteTime": {
     "end_time": "2020-03-11T08:27:23.843887Z",
     "start_time": "2020-03-11T08:27:23.834203Z"
    }
   },
   "outputs": [],
   "source": [
    "color_img = np.asarray(img)"
   ]
  }
 ],
 "metadata": {
  "kernelspec": {
   "display_name": "Python 3",
   "language": "python",
   "name": "python3"
  },
  "language_info": {
   "codemirror_mode": {
    "name": "ipython",
    "version": 3
   },
   "file_extension": ".py",
   "mimetype": "text/x-python",
   "name": "python",
   "nbconvert_exporter": "python",
   "pygments_lexer": "ipython3",
   "version": "3.5.6"
  },
  "toc": {
   "base_numbering": 1,
   "nav_menu": {},
   "number_sections": true,
   "sideBar": true,
   "skip_h1_title": false,
   "title_cell": "Table of Contents",
   "title_sidebar": "Contents",
   "toc_cell": false,
   "toc_position": {},
   "toc_section_display": true,
   "toc_window_display": false
  }
 },
 "nbformat": 4,
 "nbformat_minor": 4
}
