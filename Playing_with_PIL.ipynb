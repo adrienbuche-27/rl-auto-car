{
 "cells": [
  {
   "cell_type": "code",
   "execution_count": 43,
   "metadata": {
    "ExecuteTime": {
     "end_time": "2020-03-11T16:13:59.026711Z",
     "start_time": "2020-03-11T16:13:59.017540Z"
    }
   },
   "outputs": [],
   "source": [
    "import pandas as pd\n",
    "import numpy as np\n",
    "from PIL import Image,ImageOps\n",
    "import matplotlib.pyplot as plt\n",
    "import cv2\n",
    "import math"
   ]
  },
  {
   "cell_type": "code",
   "execution_count": 12,
   "metadata": {
    "ExecuteTime": {
     "end_time": "2020-03-11T11:18:09.034333Z",
     "start_time": "2020-03-11T11:18:09.022851Z"
    }
   },
   "outputs": [],
   "source": [
    "def load_image( infilename ) :\n",
    "    img = Image.open( infilename ).convert('RGB')\n",
    "    plt.imshow(img)\n",
    "    return img"
   ]
  },
  {
   "cell_type": "code",
   "execution_count": 32,
   "metadata": {
    "ExecuteTime": {
     "end_time": "2020-03-11T13:38:39.567862Z",
     "start_time": "2020-03-11T13:38:39.278418Z"
    }
   },
   "outputs": [
    {
     "name": "stdout",
     "output_type": "stream",
     "text": [
      "(1024, 768)\n"
     ]
    },
    {
     "data": {
      "image/png": "[encoded data removed]",
      "text/plain": [
       "<Figure size 432x288 with 1 Axes>"
      ]
     },
     "metadata": {
      "needs_background": "light"
     },
     "output_type": "display_data"
    }
   ],
   "source": [
    "img = load_image('circuits/first_try01.png')\n",
    "print(img.size)"
   ]
  },
  {
   "cell_type": "code",
   "execution_count": 14,
   "metadata": {
    "ExecuteTime": {
     "end_time": "2020-03-11T11:18:09.960591Z",
     "start_time": "2020-03-11T11:18:09.953830Z"
    }
   },
   "outputs": [],
   "source": [
    "def invert_img(img):\n",
    "    img = ImageOps.invert(img)\n",
    "    plt.imshow(img)\n",
    "    return img"
   ]
  },
  {
   "cell_type": "code",
   "execution_count": 15,
   "metadata": {
    "ExecuteTime": {
     "end_time": "2020-03-11T11:18:10.268986Z",
     "start_time": "2020-03-11T11:18:10.261026Z"
    }
   },
   "outputs": [],
   "source": [
    "# img_invert = invert_img(img)"
   ]
  },
  {
   "cell_type": "code",
   "execution_count": 16,
   "metadata": {
    "ExecuteTime": {
     "end_time": "2020-03-11T11:18:10.549539Z",
     "start_time": "2020-03-11T11:18:10.540451Z"
    }
   },
   "outputs": [],
   "source": [
    "def rotate_img(img, angle):\n",
    "    # Anti-clockwise rotation\n",
    "    img_rot = img.rotate(angle, expand=True)\n",
    "    plt.imshow(img_rot)\n",
    "    return img_rot"
   ]
  },
  {
   "cell_type": "code",
   "execution_count": 17,
   "metadata": {
    "ExecuteTime": {
     "end_time": "2020-03-11T11:18:10.809742Z",
     "start_time": "2020-03-11T11:18:10.805922Z"
    }
   },
   "outputs": [],
   "source": [
    "# img_rot = rotate_img(img, 90)"
   ]
  },
  {
   "cell_type": "code",
   "execution_count": 18,
   "metadata": {
    "ExecuteTime": {
     "end_time": "2020-03-11T11:18:11.088989Z",
     "start_time": "2020-03-11T11:18:11.077264Z"
    }
   },
   "outputs": [],
   "source": [
    "def mirror_img(img, horizontal=False):\n",
    "    if not horizontal:\n",
    "        # if not horizontal : mirror from left to right\n",
    "        img_mir = ImageOps.mirror(img)\n",
    "    else:\n",
    "        # if horizontal : mirror from top to bottom\n",
    "        img = img.rotate(90, expand=True)\n",
    "        img_mir = ImageOps.mirror(img)\n",
    "        img_mir = img_mir.rotate(-90, expand=True)\n",
    "        \n",
    "    plt.imshow(img_mir)\n",
    "    return img_mir"
   ]
  },
  {
   "cell_type": "code",
   "execution_count": 19,
   "metadata": {
    "ExecuteTime": {
     "end_time": "2020-03-11T11:18:11.335427Z",
     "start_time": "2020-03-11T11:18:11.323964Z"
    }
   },
   "outputs": [],
   "source": [
    "# img_mir = mirror_img(img_invert, True)"
   ]
  },
  {
   "cell_type": "code",
   "execution_count": 20,
   "metadata": {
    "ExecuteTime": {
     "end_time": "2020-03-11T11:18:11.654019Z",
     "start_time": "2020-03-11T11:18:11.640084Z"
    }
   },
   "outputs": [],
   "source": [
    "color_img = np.asarray(img)"
   ]
  },
  {
   "cell_type": "code",
   "execution_count": 26,
   "metadata": {
    "ExecuteTime": {
     "end_time": "2020-03-11T11:21:10.699736Z",
     "start_time": "2020-03-11T11:21:10.659779Z"
    }
   },
   "outputs": [],
   "source": [
    "def find_start_ind(img):\n",
    "    # img : original image loaded via \"load_image\"\n",
    "    image = np.asarray(img.rotate(90, expand=True))\n",
    "    shapes = image.shape\n",
    "    result = image.copy()\n",
    "    image = cv2.cvtColor(image, cv2.COLOR_RGB2HSV)\n",
    "    lower = np.array([0,50,50]) #example value\n",
    "    upper = np.array([10,255,255]) #example value\n",
    "    mask = cv2.inRange(image, lower, upper)\n",
    "    result = cv2.bitwise_and(result, result, mask=mask)\n",
    "\n",
    "    cols, rows = np.nonzero(np.mean(result, axis=2))\n",
    "    if len(cols) != 0:\n",
    "        up_left = (cols[0], rows[0])\n",
    "        bottom_right = (cols[-1], rows[-1])\n",
    "        dims = (cols[-1]-cols[0], rows[-1]-rows[0])\n",
    "        center = (np.round(rows[-1]-dims[1]/2), shapes[0] - np.round(cols[-1]-dims[0]/2))\n",
    "        return center\n",
    "    else:\n",
    "        return None\n",
    "\n",
    "    # cv2.imshow('mask', mask)\n",
    "    # cv2.imshow('result', result)\n",
    "    # cv2.waitKey()\n",
    "\n",
    "def find_start(img, center):\n",
    "    row, col = center\n",
    "    threshold = 100\n",
    "    print(img[int(row), int(col)])"
   ]
  },
  {
   "cell_type": "code",
   "execution_count": 29,
   "metadata": {
    "ExecuteTime": {
     "end_time": "2020-03-11T11:21:41.719882Z",
     "start_time": "2020-03-11T11:21:41.630647Z"
    }
   },
   "outputs": [],
   "source": [
    "center = find_start_ind(img)"
   ]
  },
  {
   "cell_type": "code",
   "execution_count": 31,
   "metadata": {
    "ExecuteTime": {
     "end_time": "2020-03-11T11:22:11.706949Z",
     "start_time": "2020-03-11T11:22:11.693999Z"
    }
   },
   "outputs": [
    {
     "name": "stdout",
     "output_type": "stream",
     "text": [
      "[218  59  38]\n"
     ]
    }
   ],
   "source": [
    "find_start(np.asarray(img), center)"
   ]
  },
  {
   "cell_type": "code",
   "execution_count": 28,
   "metadata": {
    "ExecuteTime": {
     "end_time": "2020-03-11T11:21:16.756716Z",
     "start_time": "2020-03-11T11:21:16.445436Z"
    }
   },
   "outputs": [
    {
     "data": {
      "text/plain": [
       "<matplotlib.image.AxesImage at 0x1282f58d0>"
      ]
     },
     "execution_count": 28,
     "metadata": {},
     "output_type": "execute_result"
    },
    {
     "data": {
      "image/png": "[encoded data removed]",
      "text/plain": [
       "<Figure size 432x288 with 1 Axes>"
      ]
     },
     "metadata": {
      "needs_background": "light"
     },
     "output_type": "display_data"
    }
   ],
   "source": [
    "plt.imshow(img)"
   ]
  },
  {
   "cell_type": "code",
   "execution_count": null,
   "metadata": {},
   "outputs": [],
   "source": []
  }
 ],
 "metadata": {
  "kernelspec": {
   "display_name": "Python 3",
   "language": "python",
   "name": "python3"
  },
  "language_info": {
   "codemirror_mode": {
    "name": "ipython",
    "version": 3
   },
   "file_extension": ".py",
   "mimetype": "text/x-python",
   "name": "python",
   "nbconvert_exporter": "python",
   "pygments_lexer": "ipython3",
   "version": "3.5.6"
  },
  "toc": {
   "base_numbering": 1,
   "nav_menu": {},
   "number_sections": true,
   "sideBar": true,
   "skip_h1_title": false,
   "title_cell": "Table of Contents",
   "title_sidebar": "Contents",
   "toc_cell": false,
   "toc_position": {},
   "toc_section_display": true,
   "toc_window_display": false
  }
 },
 "nbformat": 4,
 "nbformat_minor": 4
}
